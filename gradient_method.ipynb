{
 "cells": [
  {
   "cell_type": "markdown",
   "id": "cf9c19ff",
   "metadata": {},
   "source": [
    "# Steepest Descent (Cauchy) Method"
   ]
  },
  {
   "cell_type": "code",
   "execution_count": 1,
   "id": "87da922a",
   "metadata": {},
   "outputs": [],
   "source": [
    "from sympy import diff, Symbol, solve\n",
    "\n",
    "def partial_differentiate(func, target, sol_x, sol_y):\n",
    "    x = Symbol('x')\n",
    "    y = Symbol('y')\n",
    "    target = Symbol(target)\n",
    "    if target == x:\n",
    "        a = diff(func(x,y), x)\n",
    "    elif target == y:\n",
    "        a = diff(func(x,y), y)\n",
    "    return a.evalf(subs={'x':sol_x, 'y':sol_y})\n",
    "\n",
    "def substitute_algebra(func, sym1, sym2):\n",
    "    x = Symbol('x')\n",
    "    y = Symbol('y')\n",
    "    return func(x, y).evalf(subs={'x':sym1, 'y':sym2})\n",
    "\n",
    "def steepest_descent(func, start):\n",
    "    \n",
    "    #starting point\n",
    "    sol = start\n",
    "    \n",
    "    next_iter = True\n",
    "    while next_iter:\n",
    "        \n",
    "        #gradient of solution point\n",
    "        nabla_f = (partial_differentiate(func, 'x', sol[0], sol[1]), partial_differentiate(func, 'y', sol[0], sol[1]))\n",
    "        \n",
    "        #search direction\n",
    "        s = (nabla_f[0]*(-1), nabla_f[1]*(-1))\n",
    "\n",
    "        #find best lamda(t)\n",
    "        t = Symbol('t')\n",
    "        new_sol = (sol[0]+t*s[0], sol[1]+t*s[1])\n",
    "        f_new_sol = substitute_algebra(func, new_sol[0], new_sol[1])\n",
    "        t = solve(diff(f_new_sol), t)[0]\n",
    "        \n",
    "        #next solution\n",
    "        new_sol = (sol[0]+t*s[0], sol[1]+t*s[1])\n",
    "        new_nabla_f = (partial_differentiate(func, 'x', new_sol[0], new_sol[1]), partial_differentiate(func, 'y', new_sol[0], new_sol[1]))\n",
    "        sol = new_sol\n",
    "\n",
    "        #termination criteria\n",
    "        if (round(new_nabla_f[0], 3) == 0) and (round(new_nabla_f[1], 3) == 0):\n",
    "            next_iter = False\n",
    "    \n",
    "    return sol"
   ]
  },
  {
   "cell_type": "code",
   "execution_count": 2,
   "id": "1667b0e8",
   "metadata": {},
   "outputs": [
    {
     "data": {
      "text/plain": [
       "(-0.999679999999999, 1.49952000000000)"
      ]
     },
     "execution_count": 2,
     "metadata": {},
     "output_type": "execute_result"
    }
   ],
   "source": [
    "def obj_func(x, y):\n",
    "    return x - y + 2*(x**2) + 2*x*y + y**2 \n",
    "\n",
    "start_point = (0,0)\n",
    "solution = steepest_descent(obj_func, start_point)\n",
    "solution"
   ]
  },
  {
   "cell_type": "markdown",
   "id": "17c25edf",
   "metadata": {},
   "source": [
    "# Conjugate Gradient (Fletcher-Reeves) Method"
   ]
  },
  {
   "cell_type": "code",
   "execution_count": 3,
   "id": "8de3fc11",
   "metadata": {},
   "outputs": [],
   "source": [
    "from sympy import diff, Symbol, solve\n",
    "import numpy as np\n",
    "\n",
    "def partial_differentiate(func, target, sol_x, sol_y):\n",
    "    x = Symbol('x')\n",
    "    y = Symbol('y')\n",
    "    target = Symbol(target)\n",
    "    if target == x:\n",
    "        a = diff(func(x,y), x)\n",
    "    elif target == y:\n",
    "        a = diff(func(x,y), y)\n",
    "    return a.evalf(subs={'x':sol_x, 'y':sol_y})\n",
    "\n",
    "def substitute_algebra(func, sym1, sym2):\n",
    "    x = Symbol('x')\n",
    "    y = Symbol('y')\n",
    "    return func(x, y).evalf(subs={'x':sym1, 'y':sym2})\n",
    "\n",
    "def conjugate_gradient(func, start):\n",
    "    \n",
    "    #starting point\n",
    "    sol = start\n",
    "    #gradient of starting point\n",
    "    nabla_f = (partial_differentiate(func, 'x', sol[0], sol[1]), partial_differentiate(func, 'y', sol[0], sol[1]))\n",
    "    #search direction of starting point\n",
    "    s = (nabla_f[0]*(-1), nabla_f[1]*(-1))\n",
    "    \n",
    "    #find best lamda\n",
    "    t = Symbol('t')\n",
    "    new_sol = (sol[0]+t*s[0], sol[1]+t*s[1])\n",
    "    f_new_sol = substitute_algebra(func, new_sol[0], new_sol[1])\n",
    "    t = solve(diff(f_new_sol), t)[0]\n",
    "        \n",
    "    #next solution\n",
    "    new_sol = (sol[0]+t*s[0], sol[1]+t*s[1])\n",
    "    \n",
    "    next_iter = True\n",
    "    while next_iter:\n",
    "        \n",
    "        #gradient\n",
    "        nabla_f = (partial_differentiate(func, 'x', sol[0], sol[1]), partial_differentiate(func, 'y', sol[0], sol[1]))\n",
    "        new_nabla_f = (partial_differentiate(func, 'x', new_sol[0], new_sol[1]), partial_differentiate(func, 'y', new_sol[0], new_sol[1])) \n",
    "\n",
    "        #search direction\n",
    "        norm1 = np.linalg.norm(np.array(nabla_f), 1)\n",
    "        norm2 = np.linalg.norm(np.array(new_nabla_f), 1)\n",
    "        new_s = (new_nabla_f[0]*(-1) - (norm2**2)/(norm1**2)*s[0], new_nabla_f[1]*(-1) - (norm2**2)/(norm1**2)*s[1])\n",
    "        sol = new_sol\n",
    "        s = new_s\n",
    "\n",
    "        #find best lamda(t)\n",
    "        t = Symbol('t')\n",
    "        new_sol = (sol[0]+t*s[0], sol[1]+t*s[1])\n",
    "        f_new_sol = substitute_algebra(func, new_sol[0], new_sol[1])\n",
    "        t = solve(diff(f_new_sol), t)[0]\n",
    "        \n",
    "        #next solution\n",
    "        new_sol = (sol[0]+t*s[0], sol[1]+t*s[1])\n",
    "        new_nabla_f = (partial_differentiate(func, 'x', new_sol[0], new_sol[1]), partial_differentiate(func, 'y', new_sol[0], new_sol[1]))\n",
    "        \n",
    "        #termination criteria\n",
    "        if (round(new_nabla_f[0], 2) == 0) and (round(new_nabla_f[1], 2) == 0):\n",
    "            next_iter = False\n",
    "            \n",
    "    return new_sol"
   ]
  },
  {
   "cell_type": "code",
   "execution_count": 4,
   "id": "58cd22c0",
   "metadata": {},
   "outputs": [
    {
     "data": {
      "text/plain": [
       "(-0.998204439645204, 1.49570880030098)"
      ]
     },
     "execution_count": 4,
     "metadata": {},
     "output_type": "execute_result"
    }
   ],
   "source": [
    "def obj_func(x, y):\n",
    "    return x - y + 2*(x**2) + 2*x*y + y**2 \n",
    "\n",
    "start_point = (0,0)\n",
    "solution = conjugate_gradient(obj_func, start_point)\n",
    "solution"
   ]
  },
  {
   "cell_type": "markdown",
   "id": "6ab9f41a",
   "metadata": {},
   "source": [
    "# Newton's Method"
   ]
  },
  {
   "cell_type": "code",
   "execution_count": null,
   "id": "8786963b",
   "metadata": {},
   "outputs": [],
   "source": []
  },
  {
   "cell_type": "markdown",
   "id": "5ccfe0d9",
   "metadata": {},
   "source": [
    "# Marquardt Method"
   ]
  },
  {
   "cell_type": "code",
   "execution_count": null,
   "id": "b9306bb8",
   "metadata": {},
   "outputs": [],
   "source": []
  },
  {
   "cell_type": "markdown",
   "id": "38c2e3fd",
   "metadata": {},
   "source": [
    "# utilities"
   ]
  },
  {
   "cell_type": "code",
   "execution_count": null,
   "id": "603c88ec",
   "metadata": {},
   "outputs": [],
   "source": [
    "from sympy import diff, Symbol\n",
    "\n",
    "def obj_func(x, y):\n",
    "    return x - y + 2*(x**2) + 2*x*y + y**2 \n",
    "\n",
    "def partial_differentiate(func, target, sol_x, sol_y):\n",
    "    x = Symbol('x')\n",
    "    y = Symbol('y')\n",
    "    if target == x:\n",
    "        a = diff(func(x,y), x)\n",
    "    elif target == y:\n",
    "        a = diff(func(x,y), y)\n",
    "    return a.evalf(subs={'x':sol_x, 'y':sol_y})\n",
    "\n",
    "point = (0,0)\n",
    "sol = partial_differentiate(obj_func, y, point[0], point[1])\n",
    "sol"
   ]
  },
  {
   "cell_type": "code",
   "execution_count": null,
   "id": "da60e7a9",
   "metadata": {},
   "outputs": [],
   "source": [
    "def obj_func(x, y):\n",
    "    return x - y + 2*(x**2) + 2*x*y + y**2 \n",
    "\n",
    "def substitute_algebra(func, sym1, sym2):\n",
    "    return obj_func(x, y).evalf(subs={'x':sym1, 'y':sym2})\n",
    "    \n",
    "t = Symbol('t')\n",
    "point = (-t, t)\n",
    "c = substitute_algebra(obj_func, point[0], point[1])\n",
    "d = diff(c)\n",
    "t = solve(d,t)[0]\n",
    "t"
   ]
  },
  {
   "cell_type": "code",
   "execution_count": null,
   "id": "f5f1eaa3",
   "metadata": {},
   "outputs": [],
   "source": [
    "import numpy as np\n",
    "\n",
    "tp = (-1,-1)\n",
    "tp = np.array(tp)\n",
    "norm = np.linalg.norm(tp, 1)\n",
    "print(norm)"
   ]
  }
 ],
 "metadata": {
  "kernelspec": {
   "display_name": "Python 3 (ipykernel)",
   "language": "python",
   "name": "python3"
  },
  "language_info": {
   "codemirror_mode": {
    "name": "ipython",
    "version": 3
   },
   "file_extension": ".py",
   "mimetype": "text/x-python",
   "name": "python",
   "nbconvert_exporter": "python",
   "pygments_lexer": "ipython3",
   "version": "3.9.7"
  }
 },
 "nbformat": 4,
 "nbformat_minor": 5
}
