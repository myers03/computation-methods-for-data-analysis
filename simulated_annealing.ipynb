{
 "cells": [
  {
   "cell_type": "code",
   "execution_count": 41,
   "id": "bf30fc83",
   "metadata": {},
   "outputs": [],
   "source": [
    "import random\n",
    "import math\n",
    "\n",
    "def pertubation(x, y, c):\n",
    "    \n",
    "    u1 = random.random()\n",
    "    u2 = random.random()\n",
    "    \n",
    "    r1 = (x-c) + u1 * ((x+c) - (x-c))\n",
    "    r2 = (y-c) + u2 * ((y+c) - (y-c))\n",
    "    \n",
    "    return (r1, r2)\n",
    "\n",
    "def get_temp(t, reduction):\n",
    "    return float(t*reduction)\n",
    "\n",
    "def simulated_annealing(func):\n",
    "    \n",
    "    temperature = 380\n",
    "    temp_reduction = 0.5\n",
    "    \n",
    "    cur_sol = (random.randint(-10, 10), random.randint(-10, 10))\n",
    "    best_sol = cur_sol\n",
    "    \n",
    "    while True:\n",
    "        \n",
    "        new_sol = pertubation(cur_sol[0], cur_sol[1], c=6)\n",
    "        delta_energy = func(new_sol[0], new_sol[1]) - func(cur_sol[0], cur_sol[1])\n",
    "        if delta_energy <= 0:\n",
    "            cur_sol = new_sol\n",
    "            if func(cur_sol[0], cur_sol[1]) < func(best_sol[0], best_sol[1]):\n",
    "                best_sol = cur_sol\n",
    "        else:\n",
    "            temperature = get_temp(temperature, temp_reduction)\n",
    "            if temperature == 0:\n",
    "                break\n",
    "            if random.random() < math.exp(-delta_energy/temperature):\n",
    "                cur_sol = new_sol\n",
    "    \n",
    "    return best_sol"
   ]
  },
  {
   "cell_type": "code",
   "execution_count": 42,
   "id": "82254fa8",
   "metadata": {},
   "outputs": [
    {
     "name": "stdout",
     "output_type": "stream",
     "text": [
      "(-0.9308558077429767, 1.4602844306410248)\n",
      "-1.2443530368314484\n"
     ]
    }
   ],
   "source": [
    "def obj_func(x, y):\n",
    "    return x - y + 2*(x**2) + 2*x*y + y**2 \n",
    "\n",
    "best_solution = simulated_annealing(obj_func)\n",
    "print(best_solution)\n",
    "print(obj_func(best_solution[0], best_solution[1]))"
   ]
  },
  {
   "cell_type": "code",
   "execution_count": null,
   "id": "b43ae796",
   "metadata": {},
   "outputs": [],
   "source": []
  }
 ],
 "metadata": {
  "kernelspec": {
   "display_name": "Python 3 (ipykernel)",
   "language": "python",
   "name": "python3"
  },
  "language_info": {
   "codemirror_mode": {
    "name": "ipython",
    "version": 3
   },
   "file_extension": ".py",
   "mimetype": "text/x-python",
   "name": "python",
   "nbconvert_exporter": "python",
   "pygments_lexer": "ipython3",
   "version": "3.9.7"
  }
 },
 "nbformat": 4,
 "nbformat_minor": 5
}
