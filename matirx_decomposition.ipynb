{
 "cells": [
  {
   "cell_type": "code",
   "execution_count": 1,
   "id": "d180ee7a",
   "metadata": {},
   "outputs": [],
   "source": [
    "import pprint as p\n",
    "import math"
   ]
  },
  {
   "cell_type": "markdown",
   "id": "a1083b47",
   "metadata": {},
   "source": [
    "# LU Factorization/Decomposition\n",
    "## General formula (Doolittle's method):\n",
    "### $$u_{ij} = a_{ij} - \\Sigma_{k=1}^{i-1}l_{ik}u_{kj}$$\n",
    "### $$l_{ij} = \\frac {a_{ij} - \\Sigma_{k=1}^{j-1}l_{ik}u_{kj}}{u_{jj}}$$\n"
   ]
  },
  {
   "cell_type": "code",
   "execution_count": 2,
   "id": "277b3072",
   "metadata": {},
   "outputs": [],
   "source": [
    "def lu_factorization(A):\n",
    "    '''Perform LU factorization to let a square metrix A=LU, \n",
    "    where L is a lower triangular matrix and U is a upper\n",
    "    triangular matrix. Input matrix A to return L and U'''\n",
    "    \n",
    "    n = len(A)\n",
    "    for i in range(n):\n",
    "        for j in range(n):\n",
    "            A[i][j] = float(A[i][j])\n",
    "    U = [[0.0 for i in range(n)] for i in range(n)]\n",
    "    L = [[0.0 for i in range(n)] for i in range(n)]\n",
    "    \n",
    "    for j in range(n):\n",
    "        L[j][j] = 1.0\n",
    "        # get U matrix\n",
    "        for i in range(j+1):\n",
    "            s1 = sum(L[i][k] * U[k][j] for k in range(i))\n",
    "            U[i][j] = A[i][j] - s1\n",
    "        # get L matrix\n",
    "        for i in range(j+1, n):\n",
    "            s2 = sum(L[i][k] * U[k][j] for k in range(j))\n",
    "            L[i][j] = (A[i][j]-s2) / U[j][j]\n",
    "    \n",
    "    return L, U"
   ]
  },
  {
   "cell_type": "markdown",
   "id": "1d88a25e",
   "metadata": {},
   "source": [
    "# Cholesky Decomposition\n",
    "## General formula (LL form):\n",
    "### $$l_{jj} = \\sqrt{a_{jj} - \\Sigma_{k=1}^{j-1}l_{jk}^{2}}$$\n",
    "### $$l_{ij} = \\frac {a_{ij} - \\Sigma_{k=1}^{j-1}l_{ik}l_{jk}}{l_{jj}}, i>j$$"
   ]
  },
  {
   "cell_type": "code",
   "execution_count": 3,
   "id": "dc762105",
   "metadata": {},
   "outputs": [],
   "source": [
    "import math\n",
    "\n",
    "def transpose(matrix):\n",
    "    '''Perform transposition of a give matrix'''\n",
    "    \n",
    "    row, col = len(matrix), len(matrix[0])\n",
    "    new_matrix = []\n",
    "    \n",
    "    for j in range(col):\n",
    "        new_row = []\n",
    "        for i in range(row):\n",
    "            new_row.append(matrix[i][j])\n",
    "        \n",
    "        new_matrix.append(new_row)\n",
    "        \n",
    "    return new_matrix\n",
    "\n",
    "def cholesky_decomposition(A):\n",
    "    '''Perform Cholesky decompostion to let a symmetric \n",
    "    and positive definite matrix A=LL^T. Input matrix A\n",
    "    to return L and L^T'''\n",
    "    \n",
    "    n = len(A)\n",
    "    for i in range(n):\n",
    "        for j in range(n):\n",
    "            A[i][j] = float(A[i][j])\n",
    "            \n",
    "    L = [[0.0 for i in range(n)] for i in range(n)]\n",
    "    \n",
    "    for i in range(n):\n",
    "        for j in range(i+1):\n",
    "            \n",
    "            if (i == j):\n",
    "                s = sum(L[j][k] ** 2 for k in range(j))\n",
    "                L[j][j] = math.sqrt(A[j][j] - s)\n",
    "            else:\n",
    "                s = sum(L[i][k]*L[j][k] for k in range(j))\n",
    "                L[i][j] = (A[i][j] - s)/L[j][j]\n",
    "                \n",
    "    L_transpose = transpose(L)\n",
    "    \n",
    "    return L, L_transpose"
   ]
  },
  {
   "cell_type": "markdown",
   "id": "8abeaff8",
   "metadata": {},
   "source": [
    "# QR Factorization\n",
    "## General formula (Gram-Schmidt Algorithm):\n",
    "### $$R_{ik} = q_{i}^{T}a_{k},i = 1,...,k-1$$\n",
    "### $$\\tilde{q}_{k} = a_{k} - \\Sigma_{i=1}^{k-1}R_{ik}q_{i}$$\n",
    "### $$R_{kk} = ||\\tilde{q}_{k}||$$\n",
    "### $$q_{k} = \\frac{\\tilde{q}_{k}}{R_{kk}}$$"
   ]
  },
  {
   "cell_type": "code",
   "execution_count": 4,
   "id": "9400ae0a",
   "metadata": {},
   "outputs": [],
   "source": [
    "import numpy as np\n",
    "\n",
    "def qr_factorization(A):\n",
    "    \"\"\"\n",
    "    Applies the Gram-Schmidt method to A\n",
    "    and returns Q and R, so Q*R = A.\n",
    "    \"\"\"\n",
    "    A = np.array(A)\n",
    "    row, col = A.shape\n",
    "\n",
    "    Q = np.empty((row, row)) \n",
    "    q_tilde = np.empty((row, row)) \n",
    "\n",
    "    q_tilde[:, 0] = A[:, 0]\n",
    "    Q[:, 0] = q_tilde[:, 0] / np.linalg.norm(q_tilde[:, 0])\n",
    "\n",
    "    for i in range(1, row):\n",
    "\n",
    "        q_tilde[:, i] = A[:, i]\n",
    "        for j in range(i):\n",
    "            q_tilde[:, i] -= np.dot(A[:, i], Q[:, j]) * Q[:, j] \n",
    "\n",
    "        Q[:, i] = q_tilde[:, i] / np.linalg.norm(q_tilde[:, i]) \n",
    "\n",
    "    R = np.zeros((row, col))\n",
    "    for i in range(row):\n",
    "        for j in range(i, col):\n",
    "            R[i, j] = np.dot(A[:, j], Q[:, i])\n",
    "\n",
    "    return Q, R"
   ]
  },
  {
   "cell_type": "markdown",
   "id": "921800cb",
   "metadata": {},
   "source": [
    "# Test Columns"
   ]
  },
  {
   "cell_type": "code",
   "execution_count": 5,
   "id": "b05c0679",
   "metadata": {},
   "outputs": [
    {
     "name": "stdout",
     "output_type": "stream",
     "text": [
      "[[1.0, 0.0, 0.0, 0.0],\n",
      " [0.42857142857142855, 1.0, 0.0, 0.0],\n",
      " [-0.14285714285714285, 0.2127659574468085, 1.0, 0.0],\n",
      " [0.2857142857142857, -0.7234042553191489, 0.0898203592814371, 1.0]]\n",
      "[[7.0, 3.0, -1.0, 2.0],\n",
      " [0.0, 6.714285714285714, 1.4285714285714286, -4.857142857142857],\n",
      " [0.0, 0.0, 3.5531914893617023, 0.31914893617021267],\n",
      " [0.0, 0.0, 0.0, 1.88622754491018]]\n"
     ]
    }
   ],
   "source": [
    "#test LU factorization\n",
    "A = [[7, 3, -1, 2], [3, 8, 1, -4], [-1, 1, 4, -1], [2, -4, -1, 6]]\n",
    "#A = [[3,-1,2],[1,2,3],[2,-2,1]]\n",
    "L, U = lu_factorization(A)\n",
    "p.pprint(L)\n",
    "p.pprint(U)"
   ]
  },
  {
   "cell_type": "code",
   "execution_count": 6,
   "id": "dc021148",
   "metadata": {},
   "outputs": [
    {
     "name": "stdout",
     "output_type": "stream",
     "text": [
      "[[2.449489742783178, 0.0, 0.0, 0.0],\n",
      " [1.2247448713915892, 2.1213203435596424, 0.0, 0.0],\n",
      " [1.6329931618554523, 1.414213562373095, 2.309401076758503, 0.0],\n",
      " [3.2659863237109046,\n",
      "  -1.4142135623730956,\n",
      "  1.5877132402714704,\n",
      "  3.1324910215354165]]\n",
      "[[2.449489742783178,\n",
      "  1.2247448713915892,\n",
      "  1.6329931618554523,\n",
      "  3.2659863237109046],\n",
      " [0.0, 2.1213203435596424, 1.414213562373095, -1.4142135623730956],\n",
      " [0.0, 0.0, 2.309401076758503, 1.5877132402714704],\n",
      " [0.0, 0.0, 0.0, 3.1324910215354165]]\n"
     ]
    }
   ],
   "source": [
    "#test Cholesky decomposition\n",
    "A = [[6, 3, 4, 8], [3, 6, 5, 1], [4, 5, 10, 7], [8, 1, 7, 25]]\n",
    "#A = [[2,-1,0],[-1,2,-1],[0,-1,2]]\n",
    "L, L_transpose = cholesky_decomposition(A)\n",
    "p.pprint(L)\n",
    "p.pprint(L_transpose)"
   ]
  },
  {
   "cell_type": "code",
   "execution_count": 7,
   "id": "8458b522",
   "metadata": {},
   "outputs": [
    {
     "name": "stdout",
     "output_type": "stream",
     "text": [
      "array([[ 0.85714286, -0.39428571, -0.33142857],\n",
      "       [ 0.42857143,  0.90285714,  0.03428571],\n",
      "       [-0.28571429,  0.17142857, -0.94285714]])\n",
      "array([[ 14.,  21., -14.],\n",
      "       [  0., 175., -70.],\n",
      "       [  0.,   0.,  35.]])\n"
     ]
    }
   ],
   "source": [
    "#test QR factorization\n",
    "A = [[12, -51, 4], [6, 167, -68], [-4, 24, -41]]\n",
    "#A = [[-1,-1,1],[1,3,3],[-1,-1,5],[1,3,7]]\n",
    "Q, R = qr_factorization(A)\n",
    "p.pprint(Q)\n",
    "p.pprint(R)"
   ]
  },
  {
   "cell_type": "markdown",
   "id": "ddac60cb",
   "metadata": {},
   "source": [
    "# Forward / Backward Substitution"
   ]
  },
  {
   "cell_type": "code",
   "execution_count": 7,
   "id": "3dac04af",
   "metadata": {},
   "outputs": [
    {
     "name": "stdout",
     "output_type": "stream",
     "text": [
      "[0.0, 7.0, -1.3333333333333333]\n"
     ]
    }
   ],
   "source": [
    "import numpy as np\n",
    "def backward_substitution(A,b):\n",
    "    n = len(A)\n",
    "    x = [0]*n\n",
    "    for i in range(n-1,-1,-1): #this refers to the rows; i goes 2,1,0\n",
    "        for j in range(i+1,n): #j goes 1,2 @ i = 0\n",
    "                               #j goes 2   @ i = 1\n",
    "            b[i] = b[i] - A[i,j]*x[j]\n",
    "        x[i] = b[i]/A[i,i]\n",
    "\n",
    "    return x\n",
    "\n",
    "A = np.matrix([[1,1,-1],[0,1,3],[0,0,-6]])\n",
    "b = np.array([9,3,8])\n",
    "x = backward_substitution(A,b)\n",
    "print(x)"
   ]
  },
  {
   "cell_type": "code",
   "execution_count": 4,
   "id": "d6c96303",
   "metadata": {},
   "outputs": [
    {
     "name": "stdout",
     "output_type": "stream",
     "text": [
      "[-1.5, 1.5, -8.0]\n"
     ]
    }
   ],
   "source": [
    "def forward_substitution(a,b):\n",
    "    x = []\n",
    "    for i in range(len(b)):\n",
    "        x.append(b[i])\n",
    "        for j in range(i):\n",
    "            x[i]=x[i]-(a[i, j]*x[j])\n",
    "        x[i] = x[i]/a[i, i]\n",
    "    return x\n",
    "\n",
    "A = np.matrix([[-6,0,0],[1,3,0],[1,1,-1]])\n",
    "b = np.array([9,3,8])\n",
    "x = forward_substitution(A,b)\n",
    "print(x)"
   ]
  },
  {
   "cell_type": "code",
   "execution_count": null,
   "id": "f8f3cbcd",
   "metadata": {},
   "outputs": [],
   "source": []
  }
 ],
 "metadata": {
  "kernelspec": {
   "display_name": "Python 3 (ipykernel)",
   "language": "python",
   "name": "python3"
  },
  "language_info": {
   "codemirror_mode": {
    "name": "ipython",
    "version": 3
   },
   "file_extension": ".py",
   "mimetype": "text/x-python",
   "name": "python",
   "nbconvert_exporter": "python",
   "pygments_lexer": "ipython3",
   "version": "3.9.7"
  }
 },
 "nbformat": 4,
 "nbformat_minor": 5
}
