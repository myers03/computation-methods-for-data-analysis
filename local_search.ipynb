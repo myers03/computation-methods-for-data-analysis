{
 "cells": [
  {
   "cell_type": "markdown",
   "id": "1846c10e",
   "metadata": {},
   "source": [
    "# Iterated Local Search"
   ]
  },
  {
   "cell_type": "code",
   "execution_count": 12,
   "id": "b5e049b6",
   "metadata": {},
   "outputs": [],
   "source": [
    "import random\n",
    "\n",
    "def hill_climbing(func, iteration):\n",
    "    cur_sol = (random.uniform(-10, 10), random.uniform(-10, 10))\n",
    "    best_sol = cur_sol\n",
    "    \n",
    "    x_step = random.uniform(-1, 1)\n",
    "    y_step = random.uniform(-1, 1)\n",
    "    rate = 0.9\n",
    "    \n",
    "    num_iter = 0\n",
    "    while num_iter < iteration:\n",
    "        \n",
    "        cur_sol = (best_sol[0]+x_step, best_sol[1]+y_step)\n",
    "            \n",
    "        if func(cur_sol[0], cur_sol[1]) < func(best_sol[0], best_sol[1]):\n",
    "            best_sol = cur_sol\n",
    "        else:\n",
    "            x_step *= rate\n",
    "            y_step *= rate\n",
    "            \n",
    "        num_iter += 1\n",
    "        \n",
    "    return best_sol\n",
    "\n",
    "def iterated_local_search(func, iteration):\n",
    "    \n",
    "    cur_sol = hill_climbing(func, iteration=10)\n",
    "    perturbation = random.choice([100,-100])\n",
    "    \n",
    "    num_iter = 0\n",
    "    while num_iter < iteration:\n",
    "        mut_sol = (cur_sol[0]+perturbation, cur_sol[1]+perturbation)\n",
    "\n",
    "        #local search\n",
    "        x_step = random.uniform(-1, 1)\n",
    "        y_step = random.uniform(-1, 1)\n",
    "        rate = 0.9\n",
    "        for i in range(10):\n",
    "            \n",
    "            new_sol = (cur_sol[0]+x_step, cur_sol[1]+y_step)\n",
    "\n",
    "            if func(new_sol[0], new_sol[1]) < func(mut_sol[0], mut_sol[1]):\n",
    "                mut_sol = new_sol\n",
    "            else:\n",
    "                x_step *= rate\n",
    "                y_step *= rate\n",
    "                \n",
    "        if func(mut_sol[0], mut_sol[1]) < func(cur_sol[0], cur_sol[1]):\n",
    "            cur_sol = mut_sol\n",
    "            \n",
    "        num_iter += 1\n",
    "    \n",
    "    return cur_sol      "
   ]
  },
  {
   "cell_type": "code",
   "execution_count": 13,
   "id": "8c135964",
   "metadata": {},
   "outputs": [
    {
     "name": "stdout",
     "output_type": "stream",
     "text": [
      "(-1.0014739990918553, 1.501836208618046)\n",
      "-1.249997696130936\n"
     ]
    }
   ],
   "source": [
    "def obj_func(x, y):\n",
    "    return x - y + 2*(x**2) + 2*x*y + y**2 \n",
    "\n",
    "best_solution = iterated_local_search(obj_func, iteration=10000)\n",
    "print(best_solution)\n",
    "print(obj_func(best_solution[0], best_solution[1]))"
   ]
  },
  {
   "cell_type": "markdown",
   "id": "f6ef221f",
   "metadata": {},
   "source": [
    "# Stochastic Local Search"
   ]
  },
  {
   "cell_type": "code",
   "execution_count": null,
   "id": "fc5c43d8",
   "metadata": {},
   "outputs": [],
   "source": []
  }
 ],
 "metadata": {
  "kernelspec": {
   "display_name": "Python 3 (ipykernel)",
   "language": "python",
   "name": "python3"
  },
  "language_info": {
   "codemirror_mode": {
    "name": "ipython",
    "version": 3
   },
   "file_extension": ".py",
   "mimetype": "text/x-python",
   "name": "python",
   "nbconvert_exporter": "python",
   "pygments_lexer": "ipython3",
   "version": "3.9.7"
  }
 },
 "nbformat": 4,
 "nbformat_minor": 5
}
