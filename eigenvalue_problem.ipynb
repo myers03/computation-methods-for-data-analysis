{
 "cells": [
  {
   "cell_type": "markdown",
   "id": "e6cbee29",
   "metadata": {},
   "source": [
    "# Power Iteration \n",
    "## (for finding largest eigenvalue with the corresponding eigenvector)"
   ]
  },
  {
   "cell_type": "code",
   "execution_count": 13,
   "id": "5bceabca",
   "metadata": {},
   "outputs": [],
   "source": [
    "import numpy as np\n",
    "\n",
    "def power_iteration(A, num_iter=5):\n",
    "    '''num_iter should be 0~154'''\n",
    "    \n",
    "    x = np.random.rand(A.shape[1])\n",
    "    \n",
    "    for i in range(num_iter):\n",
    "        \n",
    "        x1 = np.dot(A, x)\n",
    "        \n",
    "        if (i - num_iter != -1):\n",
    "            x = x1\n",
    "        else:\n",
    "            pass\n",
    "        \n",
    "    x1_norm = np.linalg.norm(x1)\n",
    "    e_vec = x1 / x1_norm\n",
    "        \n",
    "    e_val = np.dot(np.transpose(x), x1)/np.dot(np.transpose(x), x)\n",
    "        \n",
    "    return e_val, e_vec"
   ]
  },
  {
   "cell_type": "code",
   "execution_count": 14,
   "id": "699d0959",
   "metadata": {},
   "outputs": [
    {
     "data": {
      "text/plain": [
       "(10.000015427516367, array([0.78086785, 0.62469625]))"
      ]
     },
     "execution_count": 14,
     "metadata": {},
     "output_type": "execute_result"
    }
   ],
   "source": [
    "power_iteration(np.array([[6,5],[4,5]]), 5)"
   ]
  },
  {
   "cell_type": "markdown",
   "id": "bdbff370",
   "metadata": {},
   "source": [
    "# Inverse Iteration\n",
    "## (for finding smallest eigenvalue with the corresponding eigenvector)"
   ]
  },
  {
   "cell_type": "code",
   "execution_count": 52,
   "id": "55720bb3",
   "metadata": {},
   "outputs": [],
   "source": [
    "import numpy as np\n",
    "\n",
    "### IT IS STILL WRONG!!!!!\n",
    "def inverse_iteration(A, num_iter):\n",
    "    \n",
    "    A_inverse = np.linalg.inv(A)\n",
    "    y = np.random.rand(A.shape[1])\n",
    "    \n",
    "    for i in range(num_iter):\n",
    "        \n",
    "        y_norm = np.linalg.norm(y)\n",
    "        x = y / y_norm\n",
    "        y1 = np.dot(A_inverse, x)\n",
    "        \n",
    "        if (i - num_iter != -1):\n",
    "            y = y1\n",
    "        else:\n",
    "            pass\n",
    "    \n",
    "    e_val = np.dot(np.transpose(y), y1)/np.dot(np.transpose(y), y)\n",
    "    e_vec = x\n",
    "        \n",
    "    return e_val, e_vec"
   ]
  },
  {
   "cell_type": "code",
   "execution_count": 53,
   "id": "0c35b748",
   "metadata": {},
   "outputs": [
    {
     "data": {
      "text/plain": [
       "(0.958308867492247, array([-0.86904464,  0.49473368]))"
      ]
     },
     "execution_count": 53,
     "metadata": {},
     "output_type": "execute_result"
    }
   ],
   "source": [
    "inverse_iteration(np.array([[0,2],[2,3]]), 8)"
   ]
  },
  {
   "cell_type": "markdown",
   "id": "4db56c5b",
   "metadata": {},
   "source": [
    "# Deflation"
   ]
  },
  {
   "cell_type": "code",
   "execution_count": null,
   "id": "5c8bd66e",
   "metadata": {},
   "outputs": [],
   "source": [
    "# B = A - lambda1*v1*x_transpose"
   ]
  },
  {
   "cell_type": "markdown",
   "id": "4c408666",
   "metadata": {},
   "source": [
    "# Simultaneous Iteration"
   ]
  },
  {
   "cell_type": "code",
   "execution_count": null,
   "id": "f485e1f6",
   "metadata": {},
   "outputs": [],
   "source": [
    "#"
   ]
  },
  {
   "cell_type": "markdown",
   "id": "2fba3502",
   "metadata": {},
   "source": [
    "# Orthogonal Iteration by QR\n",
    "## (for finding all eigenvalues with the corresponding eigenvectors)"
   ]
  },
  {
   "cell_type": "code",
   "execution_count": 1,
   "id": "6c138b21",
   "metadata": {},
   "outputs": [],
   "source": [
    "import numpy as np\n",
    "\n",
    "def qr_factorization(A):\n",
    "    \"\"\"\n",
    "    Applies the Gram-Schmidt method to A\n",
    "    and returns Q and R, so Q*R = A.\n",
    "    \"\"\"\n",
    "    A = np.array(A)\n",
    "    row, col = A.shape\n",
    "\n",
    "    Q = np.empty((row, row)) \n",
    "    q_tilde = np.empty((row, row)) \n",
    "\n",
    "    q_tilde[:, 0] = A[:, 0]\n",
    "    Q[:, 0] = q_tilde[:, 0] / np.linalg.norm(q_tilde[:, 0])\n",
    "\n",
    "    for i in range(1, row):\n",
    "\n",
    "        q_tilde[:, i] = A[:, i]\n",
    "        for j in range(i):\n",
    "            q_tilde[:, i] -= np.dot(A[:, i], Q[:, j]) * Q[:, j] \n",
    "\n",
    "        Q[:, i] = q_tilde[:, i] / np.linalg.norm(q_tilde[:, i]) \n",
    "\n",
    "    R = np.zeros((row, col))\n",
    "    for i in range(row):\n",
    "        for j in range(i, col):\n",
    "            R[i, j] = np.dot(A[:, j], Q[:, i])\n",
    "\n",
    "    return Q, R\n",
    "\n",
    "def orthogonal_iteration_qr(A, tol):\n",
    "    \n",
    "    e_vecs = 1\n",
    "    e_vals = []\n",
    "    while A[0][1] > tol:\n",
    "        \n",
    "        q, r = qr_factorization(A)\n",
    "        A = np.dot(r, q)\n",
    "        e_vecs = np.dot(e_vecs,q)\n",
    "        \n",
    "    for i in range(len(A)):\n",
    "        e_vals.append(A[i][i])\n",
    "    \n",
    "    return e_vals, e_vecs"
   ]
  },
  {
   "cell_type": "code",
   "execution_count": 4,
   "id": "76f845dd",
   "metadata": {},
   "outputs": [
    {
     "data": {
      "text/plain": [
       "([7.9999999999894875, 3.0000000000105116],\n",
       " array([[ 0.89442784, -0.4472123 ],\n",
       "        [ 0.4472123 ,  0.89442784]]))"
      ]
     },
     "execution_count": 4,
     "metadata": {},
     "output_type": "execute_result"
    }
   ],
   "source": [
    "orthogonal_iteration_qr(np.array([[7,2],[2,4]]), 1e-5)"
   ]
  },
  {
   "cell_type": "code",
   "execution_count": null,
   "id": "83a10a17",
   "metadata": {},
   "outputs": [],
   "source": []
  }
 ],
 "metadata": {
  "kernelspec": {
   "display_name": "Python 3 (ipykernel)",
   "language": "python",
   "name": "python3"
  },
  "language_info": {
   "codemirror_mode": {
    "name": "ipython",
    "version": 3
   },
   "file_extension": ".py",
   "mimetype": "text/x-python",
   "name": "python",
   "nbconvert_exporter": "python",
   "pygments_lexer": "ipython3",
   "version": "3.9.7"
  }
 },
 "nbformat": 4,
 "nbformat_minor": 5
}
