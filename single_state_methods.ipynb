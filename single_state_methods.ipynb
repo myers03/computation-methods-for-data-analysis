{
 "cells": [
  {
   "cell_type": "markdown",
   "id": "970c911e",
   "metadata": {},
   "source": [
    "# Exhaustive Enumeration"
   ]
  },
  {
   "cell_type": "code",
   "execution_count": 1,
   "id": "054025db",
   "metadata": {},
   "outputs": [],
   "source": [
    "def exhaustive_enumeration(func, sols):\n",
    "    \n",
    "    index = 0\n",
    "    cur_sol = sols[index]\n",
    "    best_sol = sols[index]\n",
    "    \n",
    "    while cur_sol != sols[-1]:\n",
    "        index += 1\n",
    "        cur_sol = sols[index]\n",
    "        if func(cur_sol[0], cur_sol[1]) < func(best_sol[0], best_sol[1]):\n",
    "            best_sol = cur_sol\n",
    "            \n",
    "            \n",
    "    return best_sol"
   ]
  },
  {
   "cell_type": "code",
   "execution_count": 2,
   "id": "5e7e4dac",
   "metadata": {},
   "outputs": [
    {
     "name": "stdout",
     "output_type": "stream",
     "text": [
      "(-1.0, 1.5)\n",
      "-1.25\n"
     ]
    }
   ],
   "source": [
    "import numpy as np  \n",
    "\n",
    "def obj_func(x, y):\n",
    "    return x - y + 2*(x**2) + 2*x*y + y**2 \n",
    "\n",
    "candidate_solutions = []\n",
    "sol_x = list(np.arange(-10,10,0.1))\n",
    "sol_y = list(np.arange(-10,10,0.1))\n",
    "for i in range(len(sol_x)):\n",
    "    for j in range(len(sol_y)):\n",
    "        candidate_solutions.append((round(sol_x[i],1), round(sol_y[j],1)))\n",
    "\n",
    "candidate_solutions   \n",
    "best_solution = exhaustive_enumeration(obj_func, candidate_solutions)\n",
    "print(best_solution)\n",
    "print(obj_func(best_solution[0], best_solution[1]))"
   ]
  },
  {
   "cell_type": "markdown",
   "id": "69d6a55a",
   "metadata": {},
   "source": [
    "# Random Sampling"
   ]
  },
  {
   "cell_type": "code",
   "execution_count": 1,
   "id": "bebca460",
   "metadata": {},
   "outputs": [],
   "source": [
    "import random\n",
    "def random_sampling(func, iteration):\n",
    "    \n",
    "    cur_sol = (random.uniform(-10, 10), random.uniform(-10, 10))\n",
    "    best_sol = cur_sol\n",
    "    \n",
    "    num_iter = 0\n",
    "    while num_iter < iteration:\n",
    "        cur_sol = (random.uniform(-10, 10), random.uniform(-10, 10))\n",
    "        if func(cur_sol[0], cur_sol[1]) < func(best_sol[0], best_sol[1]):\n",
    "            best_sol = cur_sol\n",
    "        num_iter += 1\n",
    "        \n",
    "    return best_sol"
   ]
  },
  {
   "cell_type": "code",
   "execution_count": 9,
   "id": "32d9bca8",
   "metadata": {},
   "outputs": [
    {
     "name": "stdout",
     "output_type": "stream",
     "text": [
      "(-0.9427623370917786, 1.512333287265637)\n",
      "-1.2418837328367114\n"
     ]
    }
   ],
   "source": [
    "def obj_func(x, y):\n",
    "    return x - y + 2*(x**2) + 2*x*y + y**2 \n",
    "\n",
    "best_solution = random_sampling(obj_func, iteration=50000)\n",
    "print(best_solution)\n",
    "print(obj_func(best_solution[0], best_solution[1]))"
   ]
  },
  {
   "cell_type": "markdown",
   "id": "e93f1eb7",
   "metadata": {},
   "source": [
    "# Hill Climbing"
   ]
  },
  {
   "cell_type": "code",
   "execution_count": 5,
   "id": "05135b70",
   "metadata": {},
   "outputs": [],
   "source": [
    "import random\n",
    "\n",
    "def hill_climbing(func, iteration):\n",
    "    cur_sol = (random.uniform(-10, 10), random.uniform(-10, 10))\n",
    "    best_sol = cur_sol\n",
    "    \n",
    "    x_step = random.uniform(-1, 1)\n",
    "    y_step = random.uniform(-1, 1)\n",
    "    rate = 0.9\n",
    "    \n",
    "    num_iter = 0\n",
    "    while num_iter < iteration:\n",
    "        \n",
    "        cur_sol = (best_sol[0]+x_step, best_sol[1]+y_step)\n",
    "            \n",
    "        if func(cur_sol[0], cur_sol[1]) < func(best_sol[0], best_sol[1]):\n",
    "            best_sol = cur_sol\n",
    "        else:\n",
    "            x_step *= rate\n",
    "            y_step *= rate\n",
    "            \n",
    "        num_iter += 1\n",
    "        \n",
    "    return best_sol"
   ]
  },
  {
   "cell_type": "code",
   "execution_count": 6,
   "id": "3ad215e4",
   "metadata": {},
   "outputs": [
    {
     "name": "stdout",
     "output_type": "stream",
     "text": [
      "(-7.891174754284743, -8.372986721157691)\n",
      "327.2753994687996\n"
     ]
    }
   ],
   "source": [
    "def obj_func(x, y):\n",
    "    return x - y + 2*(x**2) + 2*x*y + y**2 \n",
    "\n",
    "best_solution = hill_climbing(obj_func, iteration=10000)\n",
    "print(best_solution)\n",
    "print(obj_func(best_solution[0], best_solution[1]))"
   ]
  },
  {
   "cell_type": "markdown",
   "id": "3a4f74ca",
   "metadata": {},
   "source": [
    "# Random Walk"
   ]
  },
  {
   "cell_type": "code",
   "execution_count": 7,
   "id": "0e8a9c68",
   "metadata": {},
   "outputs": [],
   "source": [
    "import random\n",
    "\n",
    "def random_walk(func, iteration):\n",
    "    cur_sol = (random.uniform(-10, 10), random.uniform(-10, 10))\n",
    "    best_sol = cur_sol\n",
    "    \n",
    "    x_step = random.uniform(-1, 1)\n",
    "    y_step = random.uniform(-1, 1)\n",
    "    rate = 0.9\n",
    "    \n",
    "    num_iter = 0\n",
    "    while num_iter < iteration:\n",
    "        \n",
    "        cur_sol = (cur_sol[0]+x_step, cur_sol[1]+y_step)\n",
    "\n",
    "            \n",
    "        if func(cur_sol[0], cur_sol[1]) < func(best_sol[0], best_sol[1]):\n",
    "            best_sol = cur_sol\n",
    "        else:\n",
    "            x_step *= rate\n",
    "            y_step *= rate\n",
    "            \n",
    "        num_iter += 1\n",
    "        \n",
    "    return best_sol"
   ]
  },
  {
   "cell_type": "code",
   "execution_count": 8,
   "id": "c55bcea7",
   "metadata": {},
   "outputs": [
    {
     "name": "stdout",
     "output_type": "stream",
     "text": [
      "(-2.7581677658671944, 4.041562456583233)\n",
      "2.4548611343765163\n"
     ]
    }
   ],
   "source": [
    "def obj_func(x, y):\n",
    "    return x - y + 2*(x**2) + 2*x*y + y**2 \n",
    "\n",
    "best_solution = hill_climbing(obj_func, iteration=10000)\n",
    "print(best_solution)\n",
    "print(obj_func(best_solution[0], best_solution[1]))"
   ]
  }
 ],
 "metadata": {
  "kernelspec": {
   "display_name": "Python 3 (ipykernel)",
   "language": "python",
   "name": "python3"
  },
  "language_info": {
   "codemirror_mode": {
    "name": "ipython",
    "version": 3
   },
   "file_extension": ".py",
   "mimetype": "text/x-python",
   "name": "python",
   "nbconvert_exporter": "python",
   "pygments_lexer": "ipython3",
   "version": "3.9.7"
  }
 },
 "nbformat": 4,
 "nbformat_minor": 5
}
