{
 "cells": [
  {
   "cell_type": "markdown",
   "id": "e862dd98",
   "metadata": {},
   "source": [
    "# Principle Component Analysis"
   ]
  },
  {
   "cell_type": "code",
   "execution_count": 1,
   "id": "69a5c092",
   "metadata": {},
   "outputs": [],
   "source": [
    "import numpy as np\n",
    "import copy\n",
    "\n",
    "def deviation(X):\n",
    "    \n",
    "    means = np.mean(X, axis=0)\n",
    "    \n",
    "    data_deviate = []\n",
    "    for i in range(len(X)):\n",
    "        data_deviate.append(X[i] - means)\n",
    "        \n",
    "    data_deviate = np.array(data_deviate)\n",
    "    \n",
    "    return data_deviate\n",
    "\n",
    "def standardize(A):\n",
    "    \n",
    "    means = np.mean(X, axis=1)\n",
    "    stds = np.std(X, axis=1, ddof=1)\n",
    "    row, col = np.shape(X)\n",
    "    \n",
    "    data_standard = []\n",
    "    for i in range(row):\n",
    "        \n",
    "        standard = []\n",
    "        for j in range(col):\n",
    "            standard.append((X[i][j] - means[i]) / stds[i])\n",
    "            \n",
    "        data_standard.append(standard)\n",
    "        \n",
    "    for i in range(row):\n",
    "        for j in range(col):\n",
    "            data_standard[i][j] = round(data_standard[i][j], 3)\n",
    "    \n",
    "    return data_standard\n",
    "\n",
    "\n",
    "def variance(X):\n",
    "    \n",
    "    means = np.mean(X, axis=0)\n",
    "    var = sum(deviation(X)[i] ** 2 for i in range(len(X))) / (len(X)-1)\n",
    "    \n",
    "    return var\n",
    "\n",
    "def covariance(x, y):\n",
    "    \n",
    "    cov = sum(deviation(x)[k] * deviation(y)[k] for k in range(len(x))) / (len(x)-1)\n",
    "    \n",
    "    return cov\n",
    "    \n",
    "def varcov_matrix(A):\n",
    "    \n",
    "    A = np.array(A)\n",
    "    n = len(A)\n",
    "    \n",
    "    varcov_matrix = np.empty([n,n])\n",
    "    for i in range(n):\n",
    "        for j in range(n):\n",
    "            \n",
    "            if i == j:\n",
    "                varcov_matrix[i][j] = variance(A[i])\n",
    "            else:\n",
    "                varcov_matrix[i][j] = covariance(A[i], A[j])\n",
    "                \n",
    "    for i in range(n):\n",
    "        for j in range(n):\n",
    "            varcov_matrix[i][j] = round(varcov_matrix[i][j], 3)\n",
    "                \n",
    "    return varcov_matrix\n",
    "\n",
    "def qr_factorization(A):\n",
    "    \"\"\"\n",
    "    Applies the Gram-Schmidt method to A\n",
    "    and returns Q and R, so Q*R = A.\n",
    "    \"\"\"\n",
    "    A = np.array(A)\n",
    "    row, col = A.shape\n",
    "\n",
    "    Q = np.empty((row, row)) \n",
    "    q_tilde = np.empty((row, row)) \n",
    "\n",
    "    q_tilde[:, 0] = A[:, 0]\n",
    "    Q[:, 0] = q_tilde[:, 0] / np.linalg.norm(q_tilde[:, 0])\n",
    "\n",
    "    for i in range(1, row):\n",
    "\n",
    "        q_tilde[:, i] = A[:, i]\n",
    "        for j in range(i):\n",
    "            q_tilde[:, i] -= np.dot(A[:, i], Q[:, j]) * Q[:, j] \n",
    "\n",
    "        Q[:, i] = q_tilde[:, i] / np.linalg.norm(q_tilde[:, i]) \n",
    "\n",
    "    R = np.zeros((row, col))\n",
    "    for i in range(row):\n",
    "        for j in range(i, col):\n",
    "            R[i, j] = np.dot(A[:, j], Q[:, i])\n",
    "\n",
    "    return Q, R\n",
    "\n",
    "def orthogonal_iteration_qr(A, tol):\n",
    "    \n",
    "    e_vecs = 1\n",
    "    e_vals = []\n",
    "    while A[0][1] > tol:\n",
    "        \n",
    "        q, r = qr_factorization(A)\n",
    "        A = np.dot(r, q)\n",
    "        e_vecs = np.dot(e_vecs,q)\n",
    "        \n",
    "    for i in range(len(A)):\n",
    "        e_vals.append(A[i][i])\n",
    "    \n",
    "    return e_vals, e_vecs\n",
    "\n",
    "def pca(X, k):\n",
    "    \n",
    "    means = np.mean(X, axis=1)\n",
    "    stds = np.std(X, axis=1, ddof=1)\n",
    "    row, col = np.shape(X)\n",
    "    \n",
    "    data_deviate = []\n",
    "    for i in range(row):\n",
    "        \n",
    "        deviation = []\n",
    "        for j in range(col):\n",
    "            deviation.append(X[i][j] - means[i])\n",
    "            \n",
    "        data_deviate.append(deviation)\n",
    "        \n",
    "    cov_x = varcov_matrix(X)\n",
    "    \n",
    "    _, e_vecs = orthogonal_iteration_qr(cov_x, tol=1e-5)\n",
    "\n",
    "    feature = np.transpose(e_vecs[:, 0:k])\n",
    "    data_recast = np.dot(feature, data_deviate)\n",
    "\n",
    "    #for i in range(len(e_vecs)):\n",
    "    #    for j in range(data_recast.shape[1]):\n",
    "    #        data_recast[i][j] *= -1\n",
    "\n",
    "    return data_recast"
   ]
  },
  {
   "cell_type": "code",
   "execution_count": 2,
   "id": "e89e2c40",
   "metadata": {
    "scrolled": true
   },
   "outputs": [
    {
     "name": "stdout",
     "output_type": "stream",
     "text": [
      "[[ 1.03075002 -2.1901222   1.17853384  0.32364242  2.07231839  1.10075265\n",
      "  -0.08789244 -1.40664764 -0.53832044 -1.48301461]\n",
      " [-0.2122005   0.16892304  0.47581472  0.16115034 -0.2510891   0.21842768\n",
      "  -0.42999183  0.05295923  0.02043421 -0.2044278 ]]\n"
     ]
    },
    {
     "data": {
      "image/png": "[encoded data removed]",
      "text/plain": [
       "<Figure size 432x288 with 1 Axes>"
      ]
     },
     "metadata": {
      "needs_background": "light"
     },
     "output_type": "display_data"
    }
   ],
   "source": [
    "import matplotlib.pyplot as plt\n",
    "X = np.array([[2.5,0.5,2.2,1.9,3.1,2.3,2.0,1.0,1.5,1.1],[2.4,0.7,2.9,2.2,3.0,2.7,1.6,1.1,1.6,0.9]])\n",
    "data = pca(standardize(X), k=2)\n",
    "\n",
    "print(data)\n",
    "plt.scatter(data[0],data[1])\n",
    "plt.xlim(-2,2)\n",
    "plt.ylim(-2,2)\n",
    "plt.xlabel(\"PC1\")\n",
    "plt.ylabel(\"PC2\")\n",
    "plt.show()"
   ]
  },
  {
   "cell_type": "code",
   "execution_count": 3,
   "id": "b3d0f924",
   "metadata": {
    "scrolled": true
   },
   "outputs": [
    {
     "name": "stdout",
     "output_type": "stream",
     "text": [
      "[[-0.1075, -0.0016, 0.4635, 0.1522, -0.0731, 0.2486, -0.3567, -0.0464, -0.0178, -0.2612], [-0.8394, 1.7833, -0.9578, -0.2627, -1.6873, -0.8958, 0.0705, 1.1446, 0.438, 1.2067]]\n"
     ]
    },
    {
     "data": {
      "image/png": "[encoded data removed]",
      "text/plain": [
       "<Figure size 432x288 with 1 Axes>"
      ]
     },
     "metadata": {
      "needs_background": "light"
     },
     "output_type": "display_data"
    }
   ],
   "source": [
    "data = [[-0.1075,-0.0016,0.4635,0.1522,-0.0731,0.2486,-0.3567,-0.0464,-0.0178,-0.2612],\n",
    "        [-0.8394,1.7833,-0.9578,-0.2627,-1.6873,-0.8958,0.0705,1.1446,0.4380,1.2067]]\n",
    "    \n",
    "print(data)\n",
    "plt.scatter(data[0],data[1])\n",
    "plt.xlim(-2,2)\n",
    "plt.ylim(-2,2)\n",
    "plt.xlabel(\"PC1\")\n",
    "plt.ylabel(\"PC2\")\n",
    "plt.show()"
   ]
  },
  {
   "cell_type": "code",
   "execution_count": 4,
   "id": "7a648b46",
   "metadata": {},
   "outputs": [
    {
     "name": "stdout",
     "output_type": "stream",
     "text": [
      "[[1 2]\n",
      " [3 4]\n",
      " [5 6]]\n"
     ]
    }
   ],
   "source": [
    "p = np.array([[1,2,3],[3,4,5],[5,6,7]])\n",
    "a = p[:,0:2]\n",
    "b = p[:,1]\n",
    "c = p[:,2]\n",
    "print(a)"
   ]
  },
  {
   "cell_type": "code",
   "execution_count": 5,
   "id": "85e9e045",
   "metadata": {},
   "outputs": [
    {
     "name": "stdout",
     "output_type": "stream",
     "text": [
      "[[-50.80316778 -43.71015634 -24.07388296  -0.28152838  18.6327585\n",
      "   40.94931581  40.21381899  34.03540041  38.20574991  18.79745274\n",
      "  -19.90318953 -52.06257138]\n",
      " [  2.24314159   1.00029656  -3.55688004  -5.76884842   3.46689595\n",
      "   -0.11345794   6.16737323   8.87296823  -6.3972155   -8.72056916\n",
      "   -3.02037997   5.82667548]\n",
      " [  4.16569682  -1.15779332  -6.13873951  -0.54047798  -3.94966836\n",
      "   -1.18091469  -1.56686161   0.20668623   5.20640627   5.82287236\n",
      "   -0.53137217  -0.33583404]]\n"
     ]
    }
   ],
   "source": [
    "X = [\n",
    "[82,87,94,101,107,114,115,112,112,103,94,83],   \n",
    "[77,81,87,94,104,109,110,108,107,97,89,81],   \n",
    "[76,73,72,82,88,92,95,97,93,88,78,75],   \n",
    "[78,83,91,100,107,110,113,112,111,102,90,77],   \n",
    "[93,92,98,105,104,109,109,105,111,111,101,92],   \n",
    "[95,95,98,106,102,112,108,105,113,108,100,92],   \n",
    "[80,83,88,96,106,117,118,115,116,106,89,78],   \n",
    "[76,78,88,95,105,115,114,112,109,104,87,74],   \n",
    "[88,90,93,98,97,101,99,98,111,107,100,88],   \n",
    "[79,81,87,94,97,103,99,98,106,102,86,76],   \n",
    "[86,87,94,96,101,109,109,105,104,103,97,89],   \n",
    "[89,89,95,103,105,110,104,104,106,108,96,90]]\n",
    "\n",
    "X_new = pca(X, 3)\n",
    "print(X_new)"
   ]
  },
  {
   "cell_type": "code",
   "execution_count": null,
   "id": "77321e66",
   "metadata": {},
   "outputs": [],
   "source": []
  }
 ],
 "metadata": {
  "kernelspec": {
   "display_name": "Python 3 (ipykernel)",
   "language": "python",
   "name": "python3"
  },
  "language_info": {
   "codemirror_mode": {
    "name": "ipython",
    "version": 3
   },
   "file_extension": ".py",
   "mimetype": "text/x-python",
   "name": "python",
   "nbconvert_exporter": "python",
   "pygments_lexer": "ipython3",
   "version": "3.9.7"
  }
 },
 "nbformat": 4,
 "nbformat_minor": 5
}
